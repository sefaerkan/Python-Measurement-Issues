{
 "cells": [
  {
   "cell_type": "code",
   "execution_count": 3,
   "id": "82c48e10",
   "metadata": {},
   "outputs": [],
   "source": [
    "import itertools\n",
    "import numpy as np\n",
    "import pandas as pd \n",
    "import matplotlib.pyplot as plt\n",
    "import seaborn as sns\n",
    "import statsmodels.stats.api as sms\n",
    "from scipy.stats import ttest_1samp,shapiro,levene,ttest_ind, \\\n",
    "    mannwhitneyu,pearsonr,spearmanr,kendalltau,f_oneway,kruskal\n",
    "from statsmodels.stats.proportion import proportions_ztest"
   ]
  },
  {
   "cell_type": "code",
   "execution_count": 1,
   "id": "b2d2300c",
   "metadata": {},
   "outputs": [],
   "source": [
    "# Yeni tasarımın dönüşüm oranı ile eski tasarımın dönüşüm oranı arasında ist fark?\n",
    "\n",
    "# H0: p1=p2(Fark yoktur)\n",
    "# H1: p1 != p2(Fark vardır)"
   ]
  },
  {
   "cell_type": "code",
   "execution_count": 6,
   "id": "b0989ae0",
   "metadata": {
    "collapsed": true
   },
   "outputs": [
    {
     "data": {
      "text/plain": [
       "(3.7857863233209255, 0.0001532232957772221)"
      ]
     },
     "execution_count": 6,
     "metadata": {},
     "output_type": "execute_result"
    }
   ],
   "source": [
    "basari_sayisi = np.array([300,250])\n",
    "gozlem_sayilari = np.array([1000,1100])\n",
    "\n",
    "proportions_ztest(count=basari_sayisi, nobs=gozlem_sayilari)"
   ]
  },
  {
   "cell_type": "code",
   "execution_count": null,
   "id": "87e0d025",
   "metadata": {},
   "outputs": [],
   "source": [
    "# Uygulama: Kadın ve erkeklerin hayatta kalma oranları arasında ist olarak fark var mıdır?\n",
    "\n",
    "# H0: p1 = p2 (Fark yoktur)\n",
    "# H1: p1 != p2 (Fark vardır)"
   ]
  },
  {
   "cell_type": "code",
   "execution_count": 7,
   "id": "9871445c",
   "metadata": {},
   "outputs": [],
   "source": [
    "df = sns.load_dataset(\"titanic\")"
   ]
  },
  {
   "cell_type": "code",
   "execution_count": 9,
   "id": "ffde4734",
   "metadata": {},
   "outputs": [],
   "source": [
    "# Başarı oranı toplamı\n",
    "female_succ_count = df.loc[df[\"sex\"] == \"female\",\"survived\"].sum()\n",
    "male_succ_count = df.loc[df[\"sex\"] == \"male\",\"survived\"].sum()"
   ]
  },
  {
   "cell_type": "code",
   "execution_count": 11,
   "id": "c112ae50",
   "metadata": {},
   "outputs": [
    {
     "name": "stdout",
     "output_type": "stream",
     "text": [
      "Test stat = 16.2188, p-value= 0.0000\n"
     ]
    }
   ],
   "source": [
    "test_stat, pvalue = proportions_ztest(count=[female_succ_count,male_succ_count],\n",
    "                                      nobs=[df.loc[df[\"sex\"] == \"female\",\"survived\"].shape[0],\n",
    "                                      df.loc[df[\"sex\"] == \"male\",\"survived\"].shape[0]])\n",
    "\n",
    "print(\"Test stat = %.4f, p-value= %.4f\" % (test_stat, pvalue))"
   ]
  },
  {
   "cell_type": "code",
   "execution_count": null,
   "id": "974e0068",
   "metadata": {},
   "outputs": [],
   "source": [
    "# H0 reddedilir.\n",
    "# Fark vardır."
   ]
  }
 ],
 "metadata": {
  "kernelspec": {
   "display_name": "Python 3 (ipykernel)",
   "language": "python",
   "name": "python3"
  },
  "language_info": {
   "codemirror_mode": {
    "name": "ipython",
    "version": 3
   },
   "file_extension": ".py",
   "mimetype": "text/x-python",
   "name": "python",
   "nbconvert_exporter": "python",
   "pygments_lexer": "ipython3",
   "version": "3.10.9"
  }
 },
 "nbformat": 4,
 "nbformat_minor": 5
}
