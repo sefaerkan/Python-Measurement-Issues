{
 "cells": [
  {
   "cell_type": "code",
   "execution_count": 1,
   "id": "01dfeb7c",
   "metadata": {},
   "outputs": [],
   "source": [
    "# Puan Zamanlarına Göre Ağırlıklı Ortalama ( Time-Based Weighted Average )\n",
    "import pandas as pd\n",
    "import math\n",
    "import scipy.stats as st\n",
    "from sklearn.preprocessing import MinMaxScaler"
   ]
  },
  {
   "cell_type": "code",
   "execution_count": 2,
   "id": "92cee7bf",
   "metadata": {},
   "outputs": [],
   "source": [
    "df = pd.read_csv(\"course_reviews.csv\")"
   ]
  },
  {
   "cell_type": "code",
   "execution_count": 3,
   "id": "b8ad8a78",
   "metadata": {},
   "outputs": [],
   "source": [
    "# Zamana çevirdik\n",
    "df[\"Timestamp\"] = pd.to_datetime(df[\"Timestamp\"])"
   ]
  },
  {
   "cell_type": "code",
   "execution_count": 4,
   "id": "b07ca60f",
   "metadata": {},
   "outputs": [],
   "source": [
    "# Bir zaman ayarladık\n",
    "current_date = pd.to_datetime(\"2021-02-10 0:0:0\")"
   ]
  },
  {
   "cell_type": "code",
   "execution_count": 5,
   "id": "64678af4",
   "metadata": {},
   "outputs": [],
   "source": [
    "df[\"days\"] = (current_date - df[\"Timestamp\"]).dt.days"
   ]
  },
  {
   "cell_type": "code",
   "execution_count": 11,
   "id": "582cdf8e",
   "metadata": {},
   "outputs": [
    {
     "data": {
      "text/plain": [
       "4.775773195876289"
      ]
     },
     "execution_count": 11,
     "metadata": {},
     "output_type": "execute_result"
    }
   ],
   "source": [
    "# Son 30 gün ortalaması\n",
    "df.loc[df[\"days\"]<=30,\"Rating\"].mean()"
   ]
  },
  {
   "cell_type": "code",
   "execution_count": 10,
   "id": "743638b6",
   "metadata": {
    "collapsed": true
   },
   "outputs": [
    {
     "data": {
      "text/plain": [
       "4.763833992094861"
      ]
     },
     "execution_count": 10,
     "metadata": {},
     "output_type": "execute_result"
    }
   ],
   "source": [
    "# 30 gün ile 90 gün arasında\n",
    "df.loc[(df[\"days\"]>30) & (df[\"days\"]<=90),\"Rating\"].mean()"
   ]
  },
  {
   "cell_type": "code",
   "execution_count": 12,
   "id": "4be77e82",
   "metadata": {
    "collapsed": true
   },
   "outputs": [
    {
     "data": {
      "text/plain": [
       "4.752503576537912"
      ]
     },
     "execution_count": 12,
     "metadata": {},
     "output_type": "execute_result"
    }
   ],
   "source": [
    "# 90 gün ile 180 gün arasında\n",
    "df.loc[(df[\"days\"]>90) & (df[\"days\"]<=180),\"Rating\"].mean()"
   ]
  },
  {
   "cell_type": "code",
   "execution_count": 13,
   "id": "ad1fddc0",
   "metadata": {
    "collapsed": true
   },
   "outputs": [
    {
     "data": {
      "text/plain": [
       "4.76641586867305"
      ]
     },
     "execution_count": 13,
     "metadata": {},
     "output_type": "execute_result"
    }
   ],
   "source": [
    "# Son günler\n",
    "df.loc[df[\"days\"]>180,\"Rating\"].mean()"
   ]
  },
  {
   "cell_type": "code",
   "execution_count": 28,
   "id": "4836a298",
   "metadata": {
    "collapsed": true
   },
   "outputs": [
    {
     "data": {
      "text/plain": [
       "4.765025682267194"
      ]
     },
     "execution_count": 28,
     "metadata": {},
     "output_type": "execute_result"
    }
   ],
   "source": [
    "# Tüm ortalamaları hesapladık. Güncel değerlere en fazla ağırlığı verdik\n",
    "# \\ koda devam ettiğimi gösteriyor\n",
    "df.loc[df[\"days\"]<=30,\"Rating\"].mean() * 28/100 + \\\n",
    "df.loc[(df[\"days\"]>30) & (df[\"days\"]<=90),\"Rating\"].mean() * 26/100 + \\\n",
    "df.loc[(df[\"days\"]>90) & (df[\"days\"]<=180),\"Rating\"].mean() * 24/100 + \\\n",
    "df.loc[df[\"days\"]>180,\"Rating\"].mean() * 22/100\n"
   ]
  },
  {
   "cell_type": "code",
   "execution_count": 29,
   "id": "2ccef6eb",
   "metadata": {},
   "outputs": [],
   "source": [
    "# Fonksiyon haline getirdik\n",
    "def time_based_weighted_average(df,w1=28,w2=26,w3=24,w4=22):\n",
    "    return df.loc[df[\"days\"]<=30,\"Rating\"].mean() * w1/100 + \\\n",
    "            df.loc[(df[\"days\"]>30) & (df[\"days\"]<=90),\"Rating\"].mean() * w2/100 + \\\n",
    "            df.loc[(df[\"days\"]>90) & (df[\"days\"]<=180),\"Rating\"].mean() * w3/100 + \\\n",
    "            df.loc[df[\"days\"]>180,\"Rating\"].mean() * w4/100"
   ]
  },
  {
   "cell_type": "code",
   "execution_count": 33,
   "id": "e990a17f",
   "metadata": {
    "collapsed": true
   },
   "outputs": [
    {
     "data": {
      "text/plain": [
       "4.765491074653962"
      ]
     },
     "execution_count": 33,
     "metadata": {},
     "output_type": "execute_result"
    }
   ],
   "source": [
    "time_based_weighted_average(df,30,26,22,22)"
   ]
  }
 ],
 "metadata": {
  "kernelspec": {
   "display_name": "Python 3 (ipykernel)",
   "language": "python",
   "name": "python3"
  },
  "language_info": {
   "codemirror_mode": {
    "name": "ipython",
    "version": 3
   },
   "file_extension": ".py",
   "mimetype": "text/x-python",
   "name": "python",
   "nbconvert_exporter": "python",
   "pygments_lexer": "ipython3",
   "version": "3.10.9"
  }
 },
 "nbformat": 4,
 "nbformat_minor": 5
}
