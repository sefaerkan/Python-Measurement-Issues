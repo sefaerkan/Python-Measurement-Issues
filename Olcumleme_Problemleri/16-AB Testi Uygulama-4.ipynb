{
 "cells": [
  {
   "cell_type": "code",
   "execution_count": null,
   "id": "ef41f556",
   "metadata": {},
   "outputs": [],
   "source": [
    "# İş problemi: Kursun büyük çoğunluğunu izleyenler ile\n",
    "# izlemeyenlerin puanları birbirinden farklı mı?\n",
    "\n",
    "# H0: M1=M2(iki grup arasında fark yoktur.)\n",
    "# H1: M1!=M2(fark vardır.)"
   ]
  },
  {
   "cell_type": "code",
   "execution_count": 2,
   "id": "7390ab8d",
   "metadata": {},
   "outputs": [],
   "source": [
    "import itertools\n",
    "import numpy as np\n",
    "import pandas as pd \n",
    "import matplotlib.pyplot as plt\n",
    "import seaborn as sns\n",
    "import statsmodels.stats.api as sms\n",
    "from scipy.stats import ttest_1samp,shapiro,levene,ttest_ind, \\\n",
    "    mannwhitneyu,pearsonr,spearmanr,kendalltau,f_oneway,kruskal\n",
    "from statsmodels.stats.proportion import proportions_ztest"
   ]
  },
  {
   "cell_type": "code",
   "execution_count": 6,
   "id": "a80f8b79",
   "metadata": {},
   "outputs": [],
   "source": [
    "df = pd.read_csv(\"course_reviews.csv\")"
   ]
  },
  {
   "cell_type": "code",
   "execution_count": 14,
   "id": "f2194437",
   "metadata": {
    "collapsed": true
   },
   "outputs": [
    {
     "data": {
      "text/plain": [
       "4.860491071428571"
      ]
     },
     "execution_count": 14,
     "metadata": {},
     "output_type": "execute_result"
    }
   ],
   "source": [
    "# İlerlemesi %75 ten fazla\n",
    "df[df[\"Progress\"] > 75][\"Rating\"].mean()"
   ]
  },
  {
   "cell_type": "code",
   "execution_count": 9,
   "id": "3e738c8e",
   "metadata": {
    "collapsed": true
   },
   "outputs": [
    {
     "data": {
      "text/plain": [
       "4.7225029148853475"
      ]
     },
     "execution_count": 9,
     "metadata": {},
     "output_type": "execute_result"
    }
   ],
   "source": [
    "# İlerlemesi %25 ten az \n",
    "df[df[\"Progress\"] < 25][\"Rating\"].mean()"
   ]
  },
  {
   "cell_type": "code",
   "execution_count": 10,
   "id": "6789a1e7",
   "metadata": {},
   "outputs": [
    {
     "name": "stdout",
     "output_type": "stream",
     "text": [
      "Test stat = 0.3160, p-value= 0.0000\n"
     ]
    }
   ],
   "source": [
    "test_stat, pvalue = shapiro(df[df[\"Progress\"] > 75][\"Rating\"])\n",
    "print(\"Test stat = %.4f, p-value= %.4f\" % (test_stat, pvalue))"
   ]
  },
  {
   "cell_type": "code",
   "execution_count": 11,
   "id": "a3d067d2",
   "metadata": {},
   "outputs": [
    {
     "name": "stdout",
     "output_type": "stream",
     "text": [
      "Test stat = 0.5710, p-value= 0.0000\n"
     ]
    }
   ],
   "source": [
    "test_stat, pvalue = shapiro(df[df[\"Progress\"] < 25][\"Rating\"])\n",
    "print(\"Test stat = %.4f, p-value= %.4f\" % (test_stat, pvalue))"
   ]
  },
  {
   "cell_type": "code",
   "execution_count": 13,
   "id": "ff4078af",
   "metadata": {
    "collapsed": true
   },
   "outputs": [
    {
     "name": "stdout",
     "output_type": "stream",
     "text": [
      "Test stat = 661481.5000, p-value= 0.0000\n"
     ]
    }
   ],
   "source": [
    "test_stat, pvalue = mannwhitneyu(df[df[\"Progress\"] > 75][\"Rating\"],\n",
    "                                 df[df[\"Progress\"] < 25][\"Rating\"])\n",
    "print(\"Test stat = %.4f, p-value= %.4f\" % (test_stat, pvalue))"
   ]
  },
  {
   "cell_type": "code",
   "execution_count": null,
   "id": "a443f388",
   "metadata": {},
   "outputs": [],
   "source": [
    "# H0 reddedilir.\n",
    "# Kursu daha fazla izleyenlerin daha az izleyenlere göre\n",
    "# verdikleri puan ortalamaları daha yüksek."
   ]
  }
 ],
 "metadata": {
  "kernelspec": {
   "display_name": "Python 3 (ipykernel)",
   "language": "python",
   "name": "python3"
  },
  "language_info": {
   "codemirror_mode": {
    "name": "ipython",
    "version": 3
   },
   "file_extension": ".py",
   "mimetype": "text/x-python",
   "name": "python",
   "nbconvert_exporter": "python",
   "pygments_lexer": "ipython3",
   "version": "3.10.9"
  }
 },
 "nbformat": 4,
 "nbformat_minor": 5
}
