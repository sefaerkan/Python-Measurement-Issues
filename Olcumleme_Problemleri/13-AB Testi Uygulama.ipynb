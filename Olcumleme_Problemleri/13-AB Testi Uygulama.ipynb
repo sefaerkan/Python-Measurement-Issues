{
 "cells": [
  {
   "cell_type": "code",
   "execution_count": 5,
   "id": "fccfaa71",
   "metadata": {},
   "outputs": [],
   "source": [
    "# AB Testi ( Bağımsız İki Örneklem T Testi )\n",
    "# İki grup ortalaması arasında karşılaştırma yapılmak istenildiğinde kullanılır.\n",
    "import itertools\n",
    "import numpy as np\n",
    "import pandas as pd \n",
    "import matplotlib.pyplot as plt\n",
    "import seaborn as sns\n",
    "import statsmodels.stats.api as sms\n",
    "from scipy.stats import ttest_1samp,shapiro,levene,ttest_ind, \\\n",
    "    mannwhitneyu,pearsonr,spearmanr,kendalltau,f_oneway,kruskal\n",
    "from statsmodels.stats.proportion import proportions_ztest\n",
    "\n",
    "# Uygulama 1 - Sigara içenler ile içmeyenlerin hesap ortalamaları arasındaki istatistiksel olarak fark var mı?\n",
    "df = sns.load_dataset(\"tips\")"
   ]
  },
  {
   "cell_type": "code",
   "execution_count": 3,
   "id": "140bc0ef",
   "metadata": {
    "collapsed": true
   },
   "outputs": [
    {
     "data": {
      "text/html": [
       "<div>\n",
       "<style scoped>\n",
       "    .dataframe tbody tr th:only-of-type {\n",
       "        vertical-align: middle;\n",
       "    }\n",
       "\n",
       "    .dataframe tbody tr th {\n",
       "        vertical-align: top;\n",
       "    }\n",
       "\n",
       "    .dataframe thead th {\n",
       "        text-align: right;\n",
       "    }\n",
       "</style>\n",
       "<table border=\"1\" class=\"dataframe\">\n",
       "  <thead>\n",
       "    <tr style=\"text-align: right;\">\n",
       "      <th></th>\n",
       "      <th>total_bill</th>\n",
       "    </tr>\n",
       "    <tr>\n",
       "      <th>smoker</th>\n",
       "      <th></th>\n",
       "    </tr>\n",
       "  </thead>\n",
       "  <tbody>\n",
       "    <tr>\n",
       "      <th>Yes</th>\n",
       "      <td>20.756344</td>\n",
       "    </tr>\n",
       "    <tr>\n",
       "      <th>No</th>\n",
       "      <td>19.188278</td>\n",
       "    </tr>\n",
       "  </tbody>\n",
       "</table>\n",
       "</div>"
      ],
      "text/plain": [
       "        total_bill\n",
       "smoker            \n",
       "Yes      20.756344\n",
       "No       19.188278"
      ]
     },
     "execution_count": 3,
     "metadata": {},
     "output_type": "execute_result"
    }
   ],
   "source": [
    "# Matematiksel olarak fark var ama istatistiksel anlamda da var mı?\n",
    "df.groupby(\"smoker\").agg({\"total_bill\":\"mean\"})"
   ]
  },
  {
   "cell_type": "code",
   "execution_count": null,
   "id": "cd35a800",
   "metadata": {},
   "outputs": [],
   "source": [
    "# Hipotezi kur!\n",
    "# H0: M1 = M2\n",
    "# H1: M1 != M2\n",
    "\n",
    "# H0: Normal dağılım varsayımı sağlar.\n",
    "# H1:...sağlamaz.\n",
    "\n",
    "# p-value < ise 0.05'ten H0 red\n",
    "# p-value < değilse 0.05'ten H0 reddedilemez."
   ]
  },
  {
   "cell_type": "code",
   "execution_count": 6,
   "id": "190c5f65",
   "metadata": {
    "collapsed": true
   },
   "outputs": [
    {
     "name": "stdout",
     "output_type": "stream",
     "text": [
      "Test stat = 0.9367, p-value= 0.0002\n"
     ]
    }
   ],
   "source": [
    "test_stat, pvalue = shapiro(df.loc[df[\"smoker\"] == \"Yes\",\"total_bill\"])\n",
    "print(\"Test stat = %.4f, p-value= %.4f\" % (test_stat, pvalue))"
   ]
  },
  {
   "cell_type": "code",
   "execution_count": 7,
   "id": "dc10597d",
   "metadata": {
    "collapsed": true
   },
   "outputs": [
    {
     "name": "stdout",
     "output_type": "stream",
     "text": [
      "Test stat = 0.9045, p-value= 0.0000\n"
     ]
    }
   ],
   "source": [
    "test_stat, pvalue = shapiro(df.loc[df[\"smoker\"] == \"No\",\"total_bill\"])\n",
    "print(\"Test stat = %.4f, p-value= %.4f\" % (test_stat, pvalue))"
   ]
  },
  {
   "cell_type": "code",
   "execution_count": null,
   "id": "5c63d492",
   "metadata": {},
   "outputs": [],
   "source": [
    "# İkisinde de p-value < 0.05'ten bundan dolayı H0 red, normallik varsayımı sağlanmaz."
   ]
  },
  {
   "cell_type": "code",
   "execution_count": null,
   "id": "bdbcca91",
   "metadata": {},
   "outputs": [],
   "source": [
    "# Varyans Homojenliği Varsayımı\n",
    "\n",
    "# H0: Varsanslar homojendir.\n",
    "# H1: Varyanslar homojen değildir."
   ]
  },
  {
   "cell_type": "code",
   "execution_count": 8,
   "id": "54200340",
   "metadata": {
    "collapsed": true
   },
   "outputs": [
    {
     "name": "stdout",
     "output_type": "stream",
     "text": [
      "Test stat = 4.0537, p-value= 0.0452\n"
     ]
    }
   ],
   "source": [
    "test_stat, pvalue = levene(df.loc[df[\"smoker\"] == \"Yes\",\"total_bill\"],\n",
    "                           df.loc[df[\"smoker\"] == \"No\",\"total_bill\"])\n",
    "print(\"Test stat = %.4f, p-value= %.4f\" % (test_stat, pvalue))"
   ]
  },
  {
   "cell_type": "code",
   "execution_count": null,
   "id": "9efdaee9",
   "metadata": {},
   "outputs": [],
   "source": [
    "# p-value küçük çıktı yani h0 red homojen değildir."
   ]
  },
  {
   "cell_type": "code",
   "execution_count": null,
   "id": "8d8fe58b",
   "metadata": {},
   "outputs": [],
   "source": [
    "# 1.Varsayımlar sağlanıyorsa bağımsız iki örneklem t testi(parametrik test)\n",
    "# 2.Varsayımlar sağlanmıyorsa mannwhitneyu testi(non-parametrik testi)"
   ]
  },
  {
   "cell_type": "code",
   "execution_count": 9,
   "id": "5e8958ea",
   "metadata": {
    "collapsed": true
   },
   "outputs": [
    {
     "name": "stdout",
     "output_type": "stream",
     "text": [
      "Test stat = 1.3384, p-value= 0.1820\n"
     ]
    }
   ],
   "source": [
    "# Sağlandığını varsayalım bizde sağlanmadı.\n",
    "test_stat, pvalue = ttest_ind(df.loc[df[\"smoker\"] == \"Yes\",\"total_bill\"],\n",
    "                              df.loc[df[\"smoker\"] == \"No\",\"total_bill\"],\n",
    "                              equal_var=True)\n",
    "print(\"Test stat = %.4f, p-value= %.4f\" % (test_stat, pvalue))"
   ]
  },
  {
   "cell_type": "code",
   "execution_count": 14,
   "id": "50832379",
   "metadata": {
    "collapsed": true
   },
   "outputs": [
    {
     "name": "stdout",
     "output_type": "stream",
     "text": [
      "Test stat = 7531.5000, p-value= 0.3413\n"
     ]
    }
   ],
   "source": [
    "# Sağlanmazsa yani bizim çözüm-sonuc\n",
    "test_stat, pvalue = mannwhitneyu(df.loc[df[\"smoker\"] == \"Yes\",\"total_bill\"],\n",
    "                                 df.loc[df[\"smoker\"] == \"No\",\"total_bill\"])\n",
    "print(\"Test stat = %.4f, p-value= %.4f\" % (test_stat, pvalue))"
   ]
  },
  {
   "cell_type": "code",
   "execution_count": null,
   "id": "032b08ed",
   "metadata": {},
   "outputs": [],
   "source": [
    "# H0 reddedilemedi bundan dolayı;\n",
    "# Sigara içen ile içmeyen arasında anlamlı bir fark yoktur. "
   ]
  }
 ],
 "metadata": {
  "kernelspec": {
   "display_name": "Python 3 (ipykernel)",
   "language": "python",
   "name": "python3"
  },
  "language_info": {
   "codemirror_mode": {
    "name": "ipython",
    "version": 3
   },
   "file_extension": ".py",
   "mimetype": "text/x-python",
   "name": "python",
   "nbconvert_exporter": "python",
   "pygments_lexer": "ipython3",
   "version": "3.10.9"
  }
 },
 "nbformat": 4,
 "nbformat_minor": 5
}
