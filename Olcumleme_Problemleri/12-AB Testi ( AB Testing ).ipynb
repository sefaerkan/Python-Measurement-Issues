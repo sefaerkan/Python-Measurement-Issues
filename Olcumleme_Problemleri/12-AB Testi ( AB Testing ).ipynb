{
 "cells": [
  {
   "cell_type": "code",
   "execution_count": 4,
   "id": "188d1b36",
   "metadata": {},
   "outputs": [],
   "source": [
    "# AB Testi ( AB Testing )\n",
    "# Konu 1 : Örneklem ( Sampling )\n",
    "import itertools\n",
    "import numpy as np\n",
    "import pandas as pd \n",
    "import matplotlib.pyplot as plt\n",
    "import seaborn as sns\n",
    "import statsmodels.stats.api as sms\n",
    "from scipy.stats import ttest_1samp,shapiro,levene,ttest_ind, \\\n",
    "    mannwhitneyu,pearsonr,spearmanr,kendalltau,f_oneway,kruskal\n",
    "from statsmodels.stats.proportion import proportions_ztest"
   ]
  },
  {
   "cell_type": "code",
   "execution_count": 10,
   "id": "2da7b145",
   "metadata": {},
   "outputs": [],
   "source": [
    "populasyon = np.random.randint(0,80,10000)"
   ]
  },
  {
   "cell_type": "code",
   "execution_count": 11,
   "id": "ff0fe4fd",
   "metadata": {
    "collapsed": true
   },
   "outputs": [
    {
     "data": {
      "text/plain": [
       "39.6059"
      ]
     },
     "execution_count": 11,
     "metadata": {},
     "output_type": "execute_result"
    }
   ],
   "source": [
    "# Ortalamayı aldık\n",
    "populasyon.mean()"
   ]
  },
  {
   "cell_type": "code",
   "execution_count": 12,
   "id": "aa14f86b",
   "metadata": {},
   "outputs": [],
   "source": [
    "np.random.seed(115)"
   ]
  },
  {
   "cell_type": "code",
   "execution_count": 13,
   "id": "861d27ae",
   "metadata": {},
   "outputs": [],
   "source": [
    "# Orneklem çektik 100 değerli ve üzerine çalıştık.\n",
    "orneklem = np.random.choice(a=populasyon, size=100)"
   ]
  },
  {
   "cell_type": "code",
   "execution_count": 14,
   "id": "c171bfa9",
   "metadata": {
    "collapsed": true
   },
   "outputs": [
    {
     "data": {
      "text/plain": [
       "39.74"
      ]
     },
     "execution_count": 14,
     "metadata": {},
     "output_type": "execute_result"
    }
   ],
   "source": [
    "orneklem.mean()"
   ]
  },
  {
   "cell_type": "code",
   "execution_count": 15,
   "id": "2080f06b",
   "metadata": {},
   "outputs": [],
   "source": [
    "# Konu 2 : Betimsel İstatistikler ( Descriptive Statistics )\n",
    "df = sns.load_dataset(\"tips\")\n",
    "# Temel istatistikleri aldık\n",
    "df.describe().T"
   ]
  },
  {
   "cell_type": "code",
   "execution_count": 17,
   "id": "eb362dbf",
   "metadata": {
    "collapsed": true
   },
   "outputs": [
    {
     "data": {
      "text/html": [
       "<div>\n",
       "<style scoped>\n",
       "    .dataframe tbody tr th:only-of-type {\n",
       "        vertical-align: middle;\n",
       "    }\n",
       "\n",
       "    .dataframe tbody tr th {\n",
       "        vertical-align: top;\n",
       "    }\n",
       "\n",
       "    .dataframe thead th {\n",
       "        text-align: right;\n",
       "    }\n",
       "</style>\n",
       "<table border=\"1\" class=\"dataframe\">\n",
       "  <thead>\n",
       "    <tr style=\"text-align: right;\">\n",
       "      <th></th>\n",
       "      <th>count</th>\n",
       "      <th>mean</th>\n",
       "      <th>std</th>\n",
       "      <th>min</th>\n",
       "      <th>25%</th>\n",
       "      <th>50%</th>\n",
       "      <th>75%</th>\n",
       "      <th>max</th>\n",
       "    </tr>\n",
       "  </thead>\n",
       "  <tbody>\n",
       "    <tr>\n",
       "      <th>total_bill</th>\n",
       "      <td>244.0</td>\n",
       "      <td>19.785943</td>\n",
       "      <td>8.902412</td>\n",
       "      <td>3.07</td>\n",
       "      <td>13.3475</td>\n",
       "      <td>17.795</td>\n",
       "      <td>24.1275</td>\n",
       "      <td>50.81</td>\n",
       "    </tr>\n",
       "    <tr>\n",
       "      <th>tip</th>\n",
       "      <td>244.0</td>\n",
       "      <td>2.998279</td>\n",
       "      <td>1.383638</td>\n",
       "      <td>1.00</td>\n",
       "      <td>2.0000</td>\n",
       "      <td>2.900</td>\n",
       "      <td>3.5625</td>\n",
       "      <td>10.00</td>\n",
       "    </tr>\n",
       "    <tr>\n",
       "      <th>size</th>\n",
       "      <td>244.0</td>\n",
       "      <td>2.569672</td>\n",
       "      <td>0.951100</td>\n",
       "      <td>1.00</td>\n",
       "      <td>2.0000</td>\n",
       "      <td>2.000</td>\n",
       "      <td>3.0000</td>\n",
       "      <td>6.00</td>\n",
       "    </tr>\n",
       "  </tbody>\n",
       "</table>\n",
       "</div>"
      ],
      "text/plain": [
       "            count       mean       std   min      25%     50%      75%    max\n",
       "total_bill  244.0  19.785943  8.902412  3.07  13.3475  17.795  24.1275  50.81\n",
       "tip         244.0   2.998279  1.383638  1.00   2.0000   2.900   3.5625  10.00\n",
       "size        244.0   2.569672  0.951100  1.00   2.0000   2.000   3.0000   6.00"
      ]
     },
     "execution_count": 17,
     "metadata": {},
     "output_type": "execute_result"
    }
   ],
   "source": [
    "# Konu 3 : Güven Aralıkları ( Confidence Intervals )\n",
    "df = sns.load_dataset(\"tips\")\n",
    "df.describe().T"
   ]
  },
  {
   "cell_type": "code",
   "execution_count": 18,
   "id": "8613efc3",
   "metadata": {
    "collapsed": true
   },
   "outputs": [
    {
     "data": {
      "text/plain": [
       "(18.66333170435847, 20.908553541543164)"
      ]
     },
     "execution_count": 18,
     "metadata": {},
     "output_type": "execute_result"
    }
   ],
   "source": [
    "# İLgili değişken ücret için güven aralığı\n",
    "sms.DescrStatsW(df[\"total_bill\"]).tconfint_mean()"
   ]
  },
  {
   "cell_type": "code",
   "execution_count": 19,
   "id": "52771f2b",
   "metadata": {
    "collapsed": true
   },
   "outputs": [
    {
     "data": {
      "text/plain": [
       "(2.8237993062818205, 3.172758070767359)"
      ]
     },
     "execution_count": 19,
     "metadata": {},
     "output_type": "execute_result"
    }
   ],
   "source": [
    "# İLgili değişken bahşiş için güven aralığı\n",
    "sms.DescrStatsW(df[\"tip\"]).tconfint_mean()"
   ]
  },
  {
   "cell_type": "code",
   "execution_count": 20,
   "id": "cdf7aee9",
   "metadata": {},
   "outputs": [],
   "source": [
    "# Konu 4 : Korelasyon ( Correlation )\n",
    "# Değişkenler arasındaki ilişki, bu ilişkinin yönü ve şiddeti ile ilgili bilgiler sağlayan istatistiksel bir yöntem.\n",
    "df = sns.load_dataset(\"tips\")"
   ]
  },
  {
   "cell_type": "code",
   "execution_count": 21,
   "id": "08ec8bcb",
   "metadata": {},
   "outputs": [],
   "source": [
    "# Bahşişi çıkardık ki iki değişken arası korelasyonu görelim\n",
    "df[\"total_bill\"] = df[\"total_bill\"] - df[\"tip\"]"
   ]
  },
  {
   "cell_type": "code",
   "execution_count": 22,
   "id": "63f7c397",
   "metadata": {
    "collapsed": true
   },
   "outputs": [
    {
     "data": {
      "image/png": "[encoded data removed]",
      "text/plain": [
       "<Figure size 640x480 with 1 Axes>"
      ]
     },
     "metadata": {},
     "output_type": "display_data"
    }
   ],
   "source": [
    "# Haritası\n",
    "df.plot.scatter(\"tip\",\"total_bill\")\n",
    "plt.show()"
   ]
  },
  {
   "cell_type": "code",
   "execution_count": 23,
   "id": "a22f3f74",
   "metadata": {
    "collapsed": true
   },
   "outputs": [
    {
     "data": {
      "text/plain": [
       "0.5766634471096374"
      ]
     },
     "execution_count": 23,
     "metadata": {},
     "output_type": "execute_result"
    }
   ],
   "source": [
    "# Bahşiş ile ücret arasındaki korelasyon\n",
    "df[\"tip\"].corr(df[\"total_bill\"])\n",
    "# Bu sonuca göre ödenen ücret arttıkça bahşiş artar."
   ]
  }
 ],
 "metadata": {
  "kernelspec": {
   "display_name": "Python 3 (ipykernel)",
   "language": "python",
   "name": "python3"
  },
  "language_info": {
   "codemirror_mode": {
    "name": "ipython",
    "version": 3
   },
   "file_extension": ".py",
   "mimetype": "text/x-python",
   "name": "python",
   "nbconvert_exporter": "python",
   "pygments_lexer": "ipython3",
   "version": "3.10.9"
  }
 },
 "nbformat": 4,
 "nbformat_minor": 5
}
