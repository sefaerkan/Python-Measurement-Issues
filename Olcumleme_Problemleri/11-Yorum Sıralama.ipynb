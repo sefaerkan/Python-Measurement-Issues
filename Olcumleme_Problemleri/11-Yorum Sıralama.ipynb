{
 "cells": [
  {
   "cell_type": "code",
   "execution_count": 2,
   "id": "5c416303",
   "metadata": {},
   "outputs": [],
   "source": [
    "# Yorum Sıralama ( Sorting Reviews )\n",
    "\n",
    "# Üst-Alt Farkı Skoru ( Up-Down Difference Score )\n",
    "import pandas as pd\n",
    "import math\n",
    "import scipy.stats as st"
   ]
  },
  {
   "cell_type": "code",
   "execution_count": 3,
   "id": "a1b791a3",
   "metadata": {},
   "outputs": [],
   "source": [
    "# Bu mantıklı değil oran'a göre doğru çıkmıyor\n",
    "def score_up_down_diff(up,down):\n",
    "    return up-down"
   ]
  },
  {
   "cell_type": "code",
   "execution_count": 5,
   "id": "d0e2159f",
   "metadata": {
    "collapsed": true
   },
   "outputs": [
    {
     "data": {
      "text/plain": [
       "200"
      ]
     },
     "execution_count": 5,
     "metadata": {},
     "output_type": "execute_result"
    }
   ],
   "source": [
    "score_up_down_diff(600,400)"
   ]
  },
  {
   "cell_type": "code",
   "execution_count": 6,
   "id": "911e61f0",
   "metadata": {
    "collapsed": true
   },
   "outputs": [
    {
     "data": {
      "text/plain": [
       "1000"
      ]
     },
     "execution_count": 6,
     "metadata": {},
     "output_type": "execute_result"
    }
   ],
   "source": [
    "score_up_down_diff(5500,4500)"
   ]
  },
  {
   "cell_type": "code",
   "execution_count": 7,
   "id": "dd4fb665",
   "metadata": {},
   "outputs": [],
   "source": [
    "# Ortalama Puanı ( Average Rating )\n",
    "# Bu mantıklı değil (2,0) (100,1) gibi sayılarda hangisi sizce seçilir\n",
    "def score_average_diff(up,down):\n",
    "    if up + down == 0:\n",
    "        return 0\n",
    "    return up / (up+down)"
   ]
  },
  {
   "cell_type": "code",
   "execution_count": 8,
   "id": "fb0cdf91",
   "metadata": {
    "collapsed": true
   },
   "outputs": [
    {
     "data": {
      "text/plain": [
       "0.6"
      ]
     },
     "execution_count": 8,
     "metadata": {},
     "output_type": "execute_result"
    }
   ],
   "source": [
    "score_average_diff(600,400)"
   ]
  },
  {
   "cell_type": "code",
   "execution_count": 9,
   "id": "41627f6e",
   "metadata": {
    "collapsed": true
   },
   "outputs": [
    {
     "data": {
      "text/plain": [
       "0.55"
      ]
     },
     "execution_count": 9,
     "metadata": {},
     "output_type": "execute_result"
    }
   ],
   "source": [
    "score_average_diff(5500,4500)"
   ]
  },
  {
   "cell_type": "code",
   "execution_count": 11,
   "id": "a44df4ea",
   "metadata": {},
   "outputs": [],
   "source": [
    "# Wilson Alt Sınır Puanı ( Wilson Lower Bound Score )\n",
    "# İkili item içeren herhangi bir değişkeni skorlama işlemi yapar.\n",
    "# confidence -> güven aralığı\n",
    "def wilson_lower_bound(up,down,confidence=0.95):\n",
    "    n = up + down\n",
    "    if n == 0:\n",
    "        return 0\n",
    "    z = st.norm.ppf(1-(1-confidence) / 2)\n",
    "    phat = 1.0 * up / n\n",
    "    return (phat+z*z/(2*n)-z*math.sqrt((phat*(1-phat)+z*z/(4*n))/n))/(1+z*z/n)    "
   ]
  },
  {
   "cell_type": "code",
   "execution_count": 18,
   "id": "8eae7e45",
   "metadata": {
    "collapsed": true
   },
   "outputs": [
    {
     "data": {
      "text/plain": [
       "0.3423802275066531"
      ]
     },
     "execution_count": 18,
     "metadata": {},
     "output_type": "execute_result"
    }
   ],
   "source": [
    "wilson_lower_bound(2,0)"
   ]
  },
  {
   "cell_type": "code",
   "execution_count": 19,
   "id": "88f3a523",
   "metadata": {
    "collapsed": true
   },
   "outputs": [
    {
     "data": {
      "text/plain": [
       "0.9460328420055449"
      ]
     },
     "execution_count": 19,
     "metadata": {},
     "output_type": "execute_result"
    }
   ],
   "source": [
    "wilson_lower_bound(100,1)"
   ]
  },
  {
   "cell_type": "code",
   "execution_count": 20,
   "id": "190601c0",
   "metadata": {
    "collapsed": true
   },
   "outputs": [
    {
     "data": {
      "text/plain": [
       "0.5693094295142663"
      ]
     },
     "execution_count": 20,
     "metadata": {},
     "output_type": "execute_result"
    }
   ],
   "source": [
    "wilson_lower_bound(600,400)"
   ]
  }
 ],
 "metadata": {
  "kernelspec": {
   "display_name": "Python 3 (ipykernel)",
   "language": "python",
   "name": "python3"
  },
  "language_info": {
   "codemirror_mode": {
    "name": "ipython",
    "version": 3
   },
   "file_extension": ".py",
   "mimetype": "text/x-python",
   "name": "python",
   "nbconvert_exporter": "python",
   "pygments_lexer": "ipython3",
   "version": "3.10.9"
  }
 },
 "nbformat": 4,
 "nbformat_minor": 5
}
