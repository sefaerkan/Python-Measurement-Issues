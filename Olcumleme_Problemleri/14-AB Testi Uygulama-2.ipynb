{
 "cells": [
  {
   "cell_type": "code",
   "execution_count": 1,
   "id": "ca240f02",
   "metadata": {},
   "outputs": [],
   "source": [
    "import itertools\n",
    "import numpy as np\n",
    "import pandas as pd \n",
    "import matplotlib.pyplot as plt\n",
    "import seaborn as sns\n",
    "import statsmodels.stats.api as sms\n",
    "from scipy.stats import ttest_1samp,shapiro,levene,ttest_ind, \\\n",
    "    mannwhitneyu,pearsonr,spearmanr,kendalltau,f_oneway,kruskal\n",
    "from statsmodels.stats.proportion import proportions_ztest"
   ]
  },
  {
   "cell_type": "code",
   "execution_count": null,
   "id": "08186a3f",
   "metadata": {},
   "outputs": [],
   "source": [
    "# Uygulama 2: Kadın ve Erkek yolcuların yaş ortalamaları\n",
    "#             arasında ist olrk anlamlı fark var mı?"
   ]
  },
  {
   "cell_type": "code",
   "execution_count": 2,
   "id": "0df97139",
   "metadata": {},
   "outputs": [],
   "source": [
    "df = sns.load_dataset(\"titanic\")"
   ]
  },
  {
   "cell_type": "code",
   "execution_count": 3,
   "id": "b59c9e83",
   "metadata": {
    "collapsed": true
   },
   "outputs": [
    {
     "data": {
      "text/html": [
       "<div>\n",
       "<style scoped>\n",
       "    .dataframe tbody tr th:only-of-type {\n",
       "        vertical-align: middle;\n",
       "    }\n",
       "\n",
       "    .dataframe tbody tr th {\n",
       "        vertical-align: top;\n",
       "    }\n",
       "\n",
       "    .dataframe thead th {\n",
       "        text-align: right;\n",
       "    }\n",
       "</style>\n",
       "<table border=\"1\" class=\"dataframe\">\n",
       "  <thead>\n",
       "    <tr style=\"text-align: right;\">\n",
       "      <th></th>\n",
       "      <th>age</th>\n",
       "    </tr>\n",
       "    <tr>\n",
       "      <th>sex</th>\n",
       "      <th></th>\n",
       "    </tr>\n",
       "  </thead>\n",
       "  <tbody>\n",
       "    <tr>\n",
       "      <th>female</th>\n",
       "      <td>27.915709</td>\n",
       "    </tr>\n",
       "    <tr>\n",
       "      <th>male</th>\n",
       "      <td>30.726645</td>\n",
       "    </tr>\n",
       "  </tbody>\n",
       "</table>\n",
       "</div>"
      ],
      "text/plain": [
       "              age\n",
       "sex              \n",
       "female  27.915709\n",
       "male    30.726645"
      ]
     },
     "execution_count": 3,
     "metadata": {},
     "output_type": "execute_result"
    }
   ],
   "source": [
    "df.groupby(\"sex\").agg({\"age\":\"mean\"})"
   ]
  },
  {
   "cell_type": "code",
   "execution_count": null,
   "id": "dd76330a",
   "metadata": {},
   "outputs": [],
   "source": [
    "# 1. Hipotezi kur\n",
    "# H0: M1 = M2 (Fark yoktur)\n",
    "# H1: M1 != M2 (Vardır)"
   ]
  },
  {
   "cell_type": "code",
   "execution_count": null,
   "id": "09889f2e",
   "metadata": {},
   "outputs": [],
   "source": [
    "# 2. Varsayımları İncele\n",
    "\n",
    "# Normallik Varsayımı\n",
    "# H0: Normal dağılım varsayımı sağlamaktadır.\n",
    "# H1:...sağlamamaktadır."
   ]
  },
  {
   "cell_type": "code",
   "execution_count": 4,
   "id": "4114d6b5",
   "metadata": {
    "collapsed": true
   },
   "outputs": [
    {
     "name": "stdout",
     "output_type": "stream",
     "text": [
      "Test stat = 0.9848, p-value= 0.0071\n"
     ]
    }
   ],
   "source": [
    "test_stat, pvalue = shapiro(df.loc[df[\"sex\"] == \"female\",\"age\"].dropna())\n",
    "print(\"Test stat = %.4f, p-value= %.4f\" % (test_stat, pvalue))\n",
    "\n",
    "# H0 reddedilir."
   ]
  },
  {
   "cell_type": "code",
   "execution_count": 5,
   "id": "3f31b7b4",
   "metadata": {
    "collapsed": true
   },
   "outputs": [
    {
     "name": "stdout",
     "output_type": "stream",
     "text": [
      "Test stat = 0.9747, p-value= 0.0000\n"
     ]
    }
   ],
   "source": [
    "test_stat, pvalue = shapiro(df.loc[df[\"sex\"] == \"male\",\"age\"].dropna())\n",
    "print(\"Test stat = %.4f, p-value= %.4f\" % (test_stat, pvalue))\n",
    "\n",
    "# H0 reddedilir."
   ]
  },
  {
   "cell_type": "code",
   "execution_count": null,
   "id": "608dc515",
   "metadata": {},
   "outputs": [],
   "source": [
    "# Varyans Homojenliği Varsayımı\n",
    "\n",
    "# H0: Varsanslar homojendir.\n",
    "# H1: Varyanslar homojen değildir."
   ]
  },
  {
   "cell_type": "code",
   "execution_count": 7,
   "id": "5698e741",
   "metadata": {
    "collapsed": true
   },
   "outputs": [
    {
     "name": "stdout",
     "output_type": "stream",
     "text": [
      "Test stat = 0.0013, p-value= 0.9712\n"
     ]
    }
   ],
   "source": [
    "test_stat, pvalue = levene(df.loc[df[\"sex\"] == \"female\",\"age\"].dropna(),\n",
    "                           df.loc[df[\"sex\"] == \"male\",\"age\"].dropna())\n",
    "print(\"Test stat = %.4f, p-value= %.4f\" % (test_stat, pvalue))\n",
    "\n",
    "# H0 reddedilebilir."
   ]
  },
  {
   "cell_type": "code",
   "execution_count": 9,
   "id": "55c0e58a",
   "metadata": {},
   "outputs": [
    {
     "name": "stdout",
     "output_type": "stream",
     "text": [
      "Test stat = 53212.5000, p-value= 0.0261\n"
     ]
    }
   ],
   "source": [
    "# Varsayımlar sağlanmadığı için nonparametrik\n",
    "# Sağlanmazsa yani bizim çözüm-sonuc\n",
    "test_stat, pvalue = mannwhitneyu(df.loc[df[\"sex\"] == \"female\",\"age\"].dropna(),\n",
    "                           df.loc[df[\"sex\"] == \"male\",\"age\"].dropna())\n",
    "print(\"Test stat = %.4f, p-value= %.4f\" % (test_stat, pvalue))"
   ]
  },
  {
   "cell_type": "code",
   "execution_count": null,
   "id": "cd2c79ac",
   "metadata": {},
   "outputs": [],
   "source": [
    "# p-value 0.05'ten küçük olduğu için ilk H0 reddedilir.\n",
    "# İstatiksel olarakta fark vardır."
   ]
  }
 ],
 "metadata": {
  "kernelspec": {
   "display_name": "Python 3 (ipykernel)",
   "language": "python",
   "name": "python3"
  },
  "language_info": {
   "codemirror_mode": {
    "name": "ipython",
    "version": 3
   },
   "file_extension": ".py",
   "mimetype": "text/x-python",
   "name": "python",
   "nbconvert_exporter": "python",
   "pygments_lexer": "ipython3",
   "version": "3.10.9"
  }
 },
 "nbformat": 4,
 "nbformat_minor": 5
}
