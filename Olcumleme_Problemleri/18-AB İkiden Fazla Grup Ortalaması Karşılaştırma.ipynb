{
 "cells": [
  {
   "cell_type": "code",
   "execution_count": 1,
   "id": "ece36e37",
   "metadata": {},
   "outputs": [],
   "source": [
    "# ANOVA- Analysis of variance\n",
    "# Grup ortalamalarını kıyaslayacağız."
   ]
  },
  {
   "cell_type": "code",
   "execution_count": 2,
   "id": "10379873",
   "metadata": {},
   "outputs": [],
   "source": [
    "import itertools\n",
    "import numpy as np\n",
    "import pandas as pd\n",
    "import matplotlib.pyplot as plt\n",
    "import seaborn as sns\n",
    "import statsmodels.stats.api as sms\n",
    "from scipy.stats import ttest_1samp,shapiro,levene,ttest_ind, \\\n",
    "    mannwhitneyu,pearsonr,spearmanr,kendalltau,f_oneway,kruskal\n",
    "from statsmodels.stats.proportion import proportions_ztest"
   ]
  },
  {
   "cell_type": "code",
   "execution_count": 3,
   "id": "d9e64946",
   "metadata": {},
   "outputs": [],
   "source": [
    "df = sns.load_dataset(\"tips\")"
   ]
  },
  {
   "cell_type": "code",
   "execution_count": 4,
   "id": "7a727105",
   "metadata": {
    "collapsed": true
   },
   "outputs": [
    {
     "data": {
      "text/plain": [
       "day\n",
       "Thur    17.682742\n",
       "Fri     17.151579\n",
       "Sat     20.441379\n",
       "Sun     21.410000\n",
       "Name: total_bill, dtype: float64"
      ]
     },
     "execution_count": 4,
     "metadata": {},
     "output_type": "execute_result"
    }
   ],
   "source": [
    "# Günlere göre toplam hesap ortalamaları\n",
    "df.groupby(\"day\")[\"total_bill\"].mean()"
   ]
  },
  {
   "cell_type": "code",
   "execution_count": null,
   "id": "d8300d18",
   "metadata": {},
   "outputs": [],
   "source": [
    "# H0: m1=m2=m3=m4\n",
    "# Grup ortalamaları arasında fark yoktur.\n",
    "\n",
    "# H1: Fark vardır\n",
    "\n",
    "# Varsayım sağlanıyorsa -> one way anova\n",
    "# Varsayım sağlanmıyorsa -> kruskal"
   ]
  },
  {
   "cell_type": "code",
   "execution_count": 5,
   "id": "8aa82eca",
   "metadata": {
    "collapsed": true
   },
   "outputs": [
    {
     "name": "stdout",
     "output_type": "stream",
     "text": [
      "Sun p-value= 0.0036\n",
      "Sat p-value= 0.0000\n",
      "Thur p-value= 0.0000\n",
      "Fri p-value= 0.0409\n"
     ]
    }
   ],
   "source": [
    "# H0: Normal dağılım varsayımı sağlanmaktadır\n",
    "for group in (df[\"day\"].unique()):\n",
    "    pvalue = shapiro(df.loc[df[\"day\"] == group, \"total_bill\"])[1]\n",
    "    print(group, \"p-value= %.4f\" % pvalue)\n",
    "    \n",
    "# H0 sağlanmaz.    \n",
    "# pvalue < 0.05"
   ]
  },
  {
   "cell_type": "code",
   "execution_count": 6,
   "id": "8b2a62ef",
   "metadata": {
    "collapsed": true
   },
   "outputs": [
    {
     "name": "stdout",
     "output_type": "stream",
     "text": [
      "Test stat = 0.6654, p-value= 0.5741\n"
     ]
    }
   ],
   "source": [
    "# H0: Varyans homojenliği varsayımı sağlanmaktadır.\n",
    "test_stat, pvalue = levene(df.loc[df[\"day\"] == \"Sun\",\"total_bill\"],\n",
    "                           df.loc[df[\"day\"] == \"Sat\",\"total_bill\"],\n",
    "                           df.loc[df[\"day\"] == \"Thur\",\"total_bill\"],\n",
    "                           df.loc[df[\"day\"] == \"Fri\",\"total_bill\"])\n",
    "\n",
    "print(\"Test stat = %.4f, p-value= %.4f\" % (test_stat, pvalue))\n",
    "\n",
    "# H0 reddedilemez.\n",
    "# pvalue > 0.05"
   ]
  },
  {
   "cell_type": "code",
   "execution_count": 7,
   "id": "624bce8f",
   "metadata": {
    "collapsed": true
   },
   "outputs": [
    {
     "data": {
      "text/plain": [
       "F_onewayResult(statistic=2.7674794432863363, pvalue=0.04245383328952047)"
      ]
     },
     "execution_count": 7,
     "metadata": {},
     "output_type": "execute_result"
    }
   ],
   "source": [
    "# Varsayım sağlanmadı ama biz sağlandı varsayalım\n",
    "f_oneway(df.loc[df[\"day\"] == \"Sun\",\"total_bill\"],\n",
    "         df.loc[df[\"day\"] == \"Sat\",\"total_bill\"],\n",
    "         df.loc[df[\"day\"] == \"Thur\",\"total_bill\"],\n",
    "         df.loc[df[\"day\"] == \"Fri\",\"total_bill\"])\n",
    "\n",
    "# pvalue < 0.05\n",
    "# H0 reddedilir.\n",
    "\n",
    "# Anlamlı fark vardır."
   ]
  },
  {
   "cell_type": "code",
   "execution_count": 9,
   "id": "106b2af0",
   "metadata": {
    "collapsed": true
   },
   "outputs": [
    {
     "data": {
      "text/plain": [
       "KruskalResult(statistic=10.403076391436972, pvalue=0.015433008201042065)"
      ]
     },
     "execution_count": 9,
     "metadata": {},
     "output_type": "execute_result"
    }
   ],
   "source": [
    "# Varsayımlar sağlanmadı doğru kısım\n",
    "kruskal(df.loc[df[\"day\"] == \"Sun\",\"total_bill\"],\n",
    "         df.loc[df[\"day\"] == \"Sat\",\"total_bill\"],\n",
    "         df.loc[df[\"day\"] == \"Thur\",\"total_bill\"],\n",
    "         df.loc[df[\"day\"] == \"Fri\",\"total_bill\"])\n",
    "\n",
    "# pvalue < 0.05\n",
    "# H0 reddedilir.\n",
    "\n",
    "# Anlamlı fark vardır."
   ]
  },
  {
   "cell_type": "code",
   "execution_count": 10,
   "id": "078a1327",
   "metadata": {},
   "outputs": [],
   "source": [
    "# Fark var ama hangisinde, hangi grupta\n",
    "from statsmodels.stats.multicomp import MultiComparison"
   ]
  },
  {
   "cell_type": "code",
   "execution_count": 12,
   "id": "ee6192ee",
   "metadata": {
    "collapsed": true
   },
   "outputs": [
    {
     "name": "stdout",
     "output_type": "stream",
     "text": [
      "Multiple Comparison of Means - Tukey HSD, FWER=0.05 \n",
      "====================================================\n",
      "group1 group2 meandiff p-adj   lower   upper  reject\n",
      "----------------------------------------------------\n",
      "   Fri    Sat   3.2898 0.4541 -2.4799  9.0595  False\n",
      "   Fri    Sun   4.2584 0.2371 -1.5856 10.1025  False\n",
      "   Fri   Thur   0.5312 0.9957 -5.4434  6.5057  False\n",
      "   Sat    Sun   0.9686 0.8968 -2.6088   4.546  False\n",
      "   Sat   Thur  -2.7586 0.2374 -6.5455  1.0282  False\n",
      "   Sun   Thur  -3.7273 0.0668 -7.6264  0.1719  False\n",
      "----------------------------------------------------\n"
     ]
    }
   ],
   "source": [
    "comparison = MultiComparison(df[\"total_bill\"],df[\"day\"])\n",
    "tukey = comparison.tukeyhsd(0.05)\n",
    "print(tukey.summary())\n",
    "\n",
    "# Hepsinin p-value > 0.05 -> p-adj\n",
    "# Reddedilmez -> Fark yoktur.\n",
    "# Tüm gruba göre fark var, tek tek baktık fark yok.\n",
    "# Perşembe-Pazar çok yakın farklılık burada olabilir"
   ]
  }
 ],
 "metadata": {
  "kernelspec": {
   "display_name": "Python 3 (ipykernel)",
   "language": "python",
   "name": "python3"
  },
  "language_info": {
   "codemirror_mode": {
    "name": "ipython",
    "version": 3
   },
   "file_extension": ".py",
   "mimetype": "text/x-python",
   "name": "python",
   "nbconvert_exporter": "python",
   "pygments_lexer": "ipython3",
   "version": "3.10.9"
  }
 },
 "nbformat": 4,
 "nbformat_minor": 5
}
