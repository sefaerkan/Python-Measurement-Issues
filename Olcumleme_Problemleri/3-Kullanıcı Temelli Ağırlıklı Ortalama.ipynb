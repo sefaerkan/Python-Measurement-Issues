{
 "cells": [
  {
   "cell_type": "code",
   "execution_count": 1,
   "id": "a6a183f7",
   "metadata": {},
   "outputs": [],
   "source": [
    "# Kullanıcı Temelli Ağırlıklı Ortalama ( User-Based Weighted Average )\n",
    "import pandas as pd\n",
    "import math\n",
    "import scipy.stats as st\n",
    "from sklearn.preprocessing import MinMaxScaler"
   ]
  },
  {
   "cell_type": "code",
   "execution_count": 3,
   "id": "9da79f66",
   "metadata": {},
   "outputs": [],
   "source": [
    "df = pd.read_csv(\"course_reviews.csv\")"
   ]
  },
  {
   "cell_type": "code",
   "execution_count": 6,
   "id": "62590513",
   "metadata": {
    "collapsed": true
   },
   "outputs": [
    {
     "data": {
      "text/html": [
       "<div>\n",
       "<style scoped>\n",
       "    .dataframe tbody tr th:only-of-type {\n",
       "        vertical-align: middle;\n",
       "    }\n",
       "\n",
       "    .dataframe tbody tr th {\n",
       "        vertical-align: top;\n",
       "    }\n",
       "\n",
       "    .dataframe thead th {\n",
       "        text-align: right;\n",
       "    }\n",
       "</style>\n",
       "<table border=\"1\" class=\"dataframe\">\n",
       "  <thead>\n",
       "    <tr style=\"text-align: right;\">\n",
       "      <th></th>\n",
       "      <th>Rating</th>\n",
       "    </tr>\n",
       "    <tr>\n",
       "      <th>Progress</th>\n",
       "      <th></th>\n",
       "    </tr>\n",
       "  </thead>\n",
       "  <tbody>\n",
       "    <tr>\n",
       "      <th>0.0</th>\n",
       "      <td>4.673913</td>\n",
       "    </tr>\n",
       "    <tr>\n",
       "      <th>1.0</th>\n",
       "      <td>4.642691</td>\n",
       "    </tr>\n",
       "    <tr>\n",
       "      <th>2.0</th>\n",
       "      <td>4.654762</td>\n",
       "    </tr>\n",
       "    <tr>\n",
       "      <th>3.0</th>\n",
       "      <td>4.663551</td>\n",
       "    </tr>\n",
       "    <tr>\n",
       "      <th>4.0</th>\n",
       "      <td>4.777328</td>\n",
       "    </tr>\n",
       "    <tr>\n",
       "      <th>...</th>\n",
       "      <td>...</td>\n",
       "    </tr>\n",
       "    <tr>\n",
       "      <th>94.0</th>\n",
       "      <td>5.000000</td>\n",
       "    </tr>\n",
       "    <tr>\n",
       "      <th>95.0</th>\n",
       "      <td>4.794118</td>\n",
       "    </tr>\n",
       "    <tr>\n",
       "      <th>97.0</th>\n",
       "      <td>5.000000</td>\n",
       "    </tr>\n",
       "    <tr>\n",
       "      <th>98.0</th>\n",
       "      <td>5.000000</td>\n",
       "    </tr>\n",
       "    <tr>\n",
       "      <th>100.0</th>\n",
       "      <td>4.866319</td>\n",
       "    </tr>\n",
       "  </tbody>\n",
       "</table>\n",
       "<p>91 rows × 1 columns</p>\n",
       "</div>"
      ],
      "text/plain": [
       "            Rating\n",
       "Progress          \n",
       "0.0       4.673913\n",
       "1.0       4.642691\n",
       "2.0       4.654762\n",
       "3.0       4.663551\n",
       "4.0       4.777328\n",
       "...            ...\n",
       "94.0      5.000000\n",
       "95.0      4.794118\n",
       "97.0      5.000000\n",
       "98.0      5.000000\n",
       "100.0     4.866319\n",
       "\n",
       "[91 rows x 1 columns]"
      ]
     },
     "execution_count": 6,
     "metadata": {},
     "output_type": "execute_result"
    }
   ],
   "source": [
    "# İlerleme duruman göre puan ortlaması\n",
    "df.groupby(\"Progress\").agg({\"Rating\":\"mean\"})"
   ]
  },
  {
   "cell_type": "code",
   "execution_count": 8,
   "id": "46900ffc",
   "metadata": {
    "collapsed": true
   },
   "outputs": [
    {
     "data": {
      "text/plain": [
       "4.800257704672543"
      ]
     },
     "execution_count": 8,
     "metadata": {},
     "output_type": "execute_result"
    }
   ],
   "source": [
    "# İzleme oranına göre puanlandırma yaptık.\n",
    "df.loc[df[\"Progress\"]<=10,\"Rating\"].mean() * 22/100 + \\\n",
    "df.loc[(df[\"Progress\"]>10) & (df[\"Progress\"]<=45),\"Rating\"].mean() * 24/100 + \\\n",
    "df.loc[(df[\"Progress\"]>45) & (df[\"Progress\"]<=75),\"Rating\"].mean() * 26/100 + \\\n",
    "df.loc[df[\"Progress\"]>75,\"Rating\"].mean() * 28/100"
   ]
  },
  {
   "cell_type": "code",
   "execution_count": 9,
   "id": "303c92a5",
   "metadata": {},
   "outputs": [],
   "source": [
    "# Fonksiyon haline getirdik\n",
    "def user_based_weighted_average(df,w1=22,w2=24,w3=26,w4=28):\n",
    "    return df.loc[df[\"Progress\"]<=10,\"Rating\"].mean() * w1/100 + \\\n",
    "            df.loc[(df[\"Progress\"]>10) & (df[\"Progress\"]<=45),\"Rating\"].mean() * w2/100 + \\\n",
    "            df.loc[(df[\"Progress\"]>45) & (df[\"Progress\"]<=75),\"Rating\"].mean() * w3/100 + \\\n",
    "            df.loc[df[\"Progress\"]>75,\"Rating\"].mean() * w4/100"
   ]
  },
  {
   "cell_type": "code",
   "execution_count": 11,
   "id": "76dd12cc",
   "metadata": {
    "collapsed": true
   },
   "outputs": [
    {
     "data": {
      "text/plain": [
       "4.803286469062915"
      ]
     },
     "execution_count": 11,
     "metadata": {},
     "output_type": "execute_result"
    }
   ],
   "source": [
    "user_based_weighted_average(df,20,24,26,30)"
   ]
  }
 ],
 "metadata": {
  "kernelspec": {
   "display_name": "Python 3 (ipykernel)",
   "language": "python",
   "name": "python3"
  },
  "language_info": {
   "codemirror_mode": {
    "name": "ipython",
    "version": 3
   },
   "file_extension": ".py",
   "mimetype": "text/x-python",
   "name": "python",
   "nbconvert_exporter": "python",
   "pygments_lexer": "ipython3",
   "version": "3.10.9"
  }
 },
 "nbformat": 4,
 "nbformat_minor": 5
}
