{
 "cells": [
  {
   "cell_type": "code",
   "execution_count": 8,
   "id": "25c8be01",
   "metadata": {},
   "outputs": [],
   "source": [
    "# Ağırlıklı Derecelendirme ( Weighted Rating )\n",
    "import pandas as pd\n",
    "import math\n",
    "import scipy.stats as st\n",
    "from sklearn.preprocessing import MinMaxScaler\n"
   ]
  },
  {
   "cell_type": "code",
   "execution_count": 14,
   "id": "c366bc77",
   "metadata": {},
   "outputs": [],
   "source": [
    "df = pd.read_csv(\"course_reviews.csv\")"
   ]
  },
  {
   "cell_type": "code",
   "execution_count": 20,
   "id": "0e40725f",
   "metadata": {},
   "outputs": [],
   "source": [
    "df[\"Timestamp\"] = pd.to_datetime(df[\"Timestamp\"])\n",
    "current_date = pd.to_datetime(\"2021-02-10 0:0:0\")\n",
    "df[\"days\"] = (current_date - df[\"Timestamp\"]).dt.days\n",
    "\n",
    "def time_based_weighted_average(df,w1=28,w2=26,w3=24,w4=22):\n",
    "    return df.loc[df[\"days\"]<=30,\"Rating\"].mean() * w1/100 + \\\n",
    "            df.loc[(df[\"days\"]>30) & (df[\"days\"]<=90),\"Rating\"].mean() * w2/100 + \\\n",
    "            df.loc[(df[\"days\"]>90) & (df[\"days\"]<=180),\"Rating\"].mean() * w3/100 + \\\n",
    "            df.loc[df[\"days\"]>180,\"Rating\"].mean() * w4/100"
   ]
  },
  {
   "cell_type": "code",
   "execution_count": 21,
   "id": "9341c6f0",
   "metadata": {},
   "outputs": [],
   "source": [
    "def user_based_weighted_average(df,w1=22,w2=24,w3=26,w4=28):\n",
    "    return df.loc[df[\"Progress\"]<=10,\"Rating\"].mean() * w1/100 + \\\n",
    "            df.loc[(df[\"Progress\"]>10) & (df[\"Progress\"]<=45),\"Rating\"].mean() * w2/100 + \\\n",
    "            df.loc[(df[\"Progress\"]>45) & (df[\"Progress\"]<=75),\"Rating\"].mean() * w3/100 + \\\n",
    "            df.loc[df[\"Progress\"]>75,\"Rating\"].mean() * w4/100"
   ]
  },
  {
   "cell_type": "code",
   "execution_count": 22,
   "id": "bcc65f94",
   "metadata": {},
   "outputs": [],
   "source": [
    "# İki fonksiyonu birleştirip bir sonuç çıkardık.\n",
    "def course_weigthed_rating(df,time_w=50,user_w=50):\n",
    "    return time_based_weighted_average(df) * time_w / 100 + \\\n",
    "           user_based_weighted_average(df) * user_w / 100 "
   ]
  },
  {
   "cell_type": "code",
   "execution_count": 23,
   "id": "ae61d1f7",
   "metadata": {},
   "outputs": [
    {
     "data": {
      "text/plain": [
       "4.782641693469868"
      ]
     },
     "execution_count": 23,
     "metadata": {},
     "output_type": "execute_result"
    }
   ],
   "source": [
    "course_weigthed_rating(df)"
   ]
  }
 ],
 "metadata": {
  "kernelspec": {
   "display_name": "Python 3 (ipykernel)",
   "language": "python",
   "name": "python3"
  },
  "language_info": {
   "codemirror_mode": {
    "name": "ipython",
    "version": 3
   },
   "file_extension": ".py",
   "mimetype": "text/x-python",
   "name": "python",
   "nbconvert_exporter": "python",
   "pygments_lexer": "ipython3",
   "version": "3.10.9"
  }
 },
 "nbformat": 4,
 "nbformat_minor": 5
}
